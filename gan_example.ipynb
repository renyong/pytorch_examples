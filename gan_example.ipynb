{
 "cells": [
  {
   "cell_type": "markdown",
   "metadata": {},
   "source": [
    "# Special thanks to \n",
    "https://www.chinahadoop.cn/course/1327"
   ]
  },
  {
   "cell_type": "code",
   "execution_count": 1,
   "metadata": {
    "collapsed": true
   },
   "outputs": [],
   "source": [
    "import torch\n",
    "import torch.nn as nn\n",
    "import numpy as np\n",
    "import matplotlib.pyplot as plt\n",
    "%matplotlib inline"
   ]
  },
  {
   "cell_type": "code",
   "execution_count": 2,
   "metadata": {
    "collapsed": true
   },
   "outputs": [],
   "source": [
    "BATCH_SIZE = 500 \n",
    "NOISE_DIM = 5"
   ]
  },
  {
   "cell_type": "code",
   "execution_count": 3,
   "metadata": {
    "collapsed": true
   },
   "outputs": [],
   "source": [
    "def get_gaussian_dist(mu, sigma): # the real data\n",
    "    temp = np.random.normal(mu, sigma, size=BATCH_SIZE)[:, np.newaxis]\n",
    "    return torch.from_numpy(temp).float()"
   ]
  },
  {
   "cell_type": "code",
   "execution_count": 4,
   "metadata": {
    "collapsed": true
   },
   "outputs": [],
   "source": [
    "def extract(v):\n",
    "    return v.detach().storage().tolist()\n",
    "def stats(d):\n",
    "    return [np.mean(d), np.std(d)]"
   ]
  },
  {
   "cell_type": "code",
   "execution_count": 5,
   "metadata": {
    "collapsed": true
   },
   "outputs": [],
   "source": [
    "# Generator \n",
    "G = nn.Sequential(                      \n",
    "    nn.Linear(NOISE_DIM, 128),            \n",
    "    nn.ReLU(),\n",
    "    nn.Linear(128, 1),                  \n",
    ")\n",
    "\n",
    "# Discriminator \n",
    "D = nn.Sequential(\n",
    "    nn.Linear(1, 128),     \n",
    "    nn.ReLU(),\n",
    "    nn.Linear(128, 1),     \n",
    "    nn.Sigmoid(),\n",
    ")"
   ]
  },
  {
   "cell_type": "code",
   "execution_count": 6,
   "metadata": {
    "collapsed": true
   },
   "outputs": [],
   "source": [
    "opt_D = torch.optim.Adam(D.parameters(), lr=0.0001)\n",
    "opt_G = torch.optim.Adam(G.parameters(), lr=0.0001)"
   ]
  },
  {
   "cell_type": "code",
   "execution_count": 7,
   "metadata": {},
   "outputs": [
    {
     "name": "stdout",
     "output_type": "stream",
     "text": [
      "Epoch 0: ; Real Dist ([4.754378428570926, 2.0421606758211825]),  Fake Dist ([-0.006194238744676113, 0.16176165834586295]) \n",
      "Epoch 500: ; Real Dist ([5.072915704256855, 1.9973613698641892]),  Fake Dist ([2.3585838866233826, 0.7329072071938686]) \n",
      "Epoch 1000: ; Real Dist ([4.893682318789884, 1.9501125463618412]),  Fake Dist ([5.194882173538208, 1.5318151304158054]) \n",
      "Epoch 1500: ; Real Dist ([4.916431605875492, 2.066867514969785]),  Fake Dist ([6.6444979500770565, 1.9038596500034735]) \n",
      "Epoch 2000: ; Real Dist ([4.9662396557331085, 2.0553511519615997]),  Fake Dist ([5.649089053630829, 1.7395965272522782]) \n",
      "Epoch 2500: ; Real Dist ([4.946271706409752, 2.0815274944605076]),  Fake Dist ([4.447126365661621, 1.4260829775714532]) \n",
      "Epoch 3000: ; Real Dist ([5.000876651793718, 1.9476810621945522]),  Fake Dist ([5.3105137553215025, 1.6775460452506743]) \n",
      "Epoch 3500: ; Real Dist ([5.040014942198992, 2.0388483714056633]),  Fake Dist ([5.045906022548675, 1.8113265907312417]) \n",
      "Epoch 4000: ; Real Dist ([5.262717946846038, 2.103532652483224]),  Fake Dist ([5.016234689712524, 2.2502590583066855]) \n",
      "Epoch 4500: ; Real Dist ([4.998988325864077, 1.9643591551995652]),  Fake Dist ([4.901686275191605, 3.0711136074319922]) \n",
      "Epoch 5000: ; Real Dist ([5.089871478617192, 1.8788601080070035]),  Fake Dist ([4.806593741297722, 3.318544739136332]) \n",
      "Epoch 5500: ; Real Dist ([5.108691091179848, 2.0474077628507206]),  Fake Dist ([4.969141823872924, 2.1035411039397185]) \n",
      "Epoch 6000: ; Real Dist ([5.010071516635362, 2.009013126383278]),  Fake Dist ([4.990436764240265, 1.7679256648299155]) \n",
      "Epoch 6500: ; Real Dist ([5.053069998264313, 1.929903861233832]),  Fake Dist ([5.047240448236465, 1.4647760224899657]) \n",
      "Epoch 7000: ; Real Dist ([4.977212983667851, 2.025069738980373]),  Fake Dist ([5.093952522039413, 1.6467133815121686]) \n",
      "Epoch 7500: ; Real Dist ([4.84896914485097, 1.9755723325930101]),  Fake Dist ([4.961333195269108, 2.213164399835292]) \n",
      "Epoch 8000: ; Real Dist ([5.008510593011975, 1.960745892446545]),  Fake Dist ([4.918782671779394, 2.2250948394401493]) \n",
      "Epoch 8500: ; Real Dist ([5.016569971535355, 1.9977548025207745]),  Fake Dist ([5.10057722902298, 1.576039241253769]) \n",
      "Epoch 9000: ; Real Dist ([5.090107874244452, 1.8960070345718392]),  Fake Dist ([5.142494941607118, 2.179024743061875]) \n",
      "Epoch 9500: ; Real Dist ([4.9714283221028746, 2.0351741871237734]),  Fake Dist ([5.01533369487524, 1.9048349195749072]) \n"
     ]
    }
   ],
   "source": [
    "for step in range(10000):\n",
    "    # train discrimintor\n",
    "    d_real_data = get_gaussian_dist(5, 2)    # real data\n",
    "    noise = torch.randn(BATCH_SIZE, NOISE_DIM)  # random noise\n",
    "    d_fake_data = G(noise)                      # fake data from G (generated from random ideas)\n",
    "\n",
    "    prob_real_decision = D(d_real_data)          # D try to increase this prob\n",
    "    prob_fake_decision = D(d_fake_data.detach()) # D try to reduce this prob\n",
    "    \n",
    "    D_loss = - torch.mean(torch.log(prob_real_decision) + torch.log(1. - prob_fake_decision))\n",
    "    opt_D.zero_grad()\n",
    "    D_loss.backward()\n",
    "    opt_D.step()\n",
    "\n",
    "    # train generator \n",
    "    noise = torch.randn(BATCH_SIZE, NOISE_DIM)  # random noise\n",
    "    g_fake_data = G(noise)                      # fake data from G (generated from random ideas)\n",
    "    prob_fake_decision = D(g_fake_data)         # G try to increase this prob\n",
    "    \n",
    "    G_loss = torch.mean(torch.log(1. - prob_fake_decision))\n",
    "    opt_G.zero_grad()\n",
    "    G_loss.backward()\n",
    "    opt_G.step()\n",
    "\n",
    "    if step % 500 == 0:  # plotting\n",
    "        print(\"Epoch %s: ; Real Dist (%s),  Fake Dist (%s) \" %\n",
    "                  (step, stats(extract(d_real_data)), stats(extract(g_fake_data))))"
   ]
  },
  {
   "cell_type": "code",
   "execution_count": 8,
   "metadata": {},
   "outputs": [
    {
     "name": "stdout",
     "output_type": "stream",
     "text": [
      "Plotting the generated distribution...\n"
     ]
    },
    {
     "data": {
      "image/png": "[encoded data removed]",
      "text/plain": [
       "<matplotlib.figure.Figure at 0x189c2850128>"
      ]
     },
     "metadata": {},
     "output_type": "display_data"
    }
   ],
   "source": [
    "print(\"Plotting the generated distribution...\")\n",
    "values = extract(g_fake_data)\n",
    "plt.hist(values, bins=50,color=\"red\")\n",
    "plt.xlabel('Value')\n",
    "plt.ylabel('Count')\n",
    "plt.title('Histogram of Generated Distribution')\n",
    "plt.grid(True)\n",
    "plt.show()"
   ]
  },
  {
   "cell_type": "code",
   "execution_count": 9,
   "metadata": {
    "scrolled": true
   },
   "outputs": [
    {
     "name": "stdout",
     "output_type": "stream",
     "text": [
      "Plotting the generated distribution...\n"
     ]
    },
    {
     "data": {
      "image/png": "[encoded data removed]",
      "text/plain": [
       "<matplotlib.figure.Figure at 0x189cd5d9550>"
      ]
     },
     "metadata": {},
     "output_type": "display_data"
    }
   ],
   "source": [
    "print(\"Plotting the generated distribution...\")\n",
    "values = extract(d_real_data)\n",
    "plt.hist(values, bins=50)\n",
    "plt.xlabel('Value')\n",
    "plt.ylabel('Count')\n",
    "plt.title('Histogram of Real Distribution')\n",
    "plt.grid(True)\n",
    "plt.show()"
   ]
  },
  {
   "cell_type": "code",
   "execution_count": null,
   "metadata": {
    "collapsed": true
   },
   "outputs": [],
   "source": []
  }
 ],
 "metadata": {
  "kernelspec": {
   "display_name": "Python 3",
   "language": "python",
   "name": "python3"
  },
  "language_info": {
   "codemirror_mode": {
    "name": "ipython",
    "version": 3
   },
   "file_extension": ".py",
   "mimetype": "text/x-python",
   "name": "python",
   "nbconvert_exporter": "python",
   "pygments_lexer": "ipython3",
   "version": "3.6.1"
  }
 },
 "nbformat": 4,
 "nbformat_minor": 2
}
