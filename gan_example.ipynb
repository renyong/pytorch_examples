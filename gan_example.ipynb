{
 "cells": [
  {
   "cell_type": "markdown",
   "metadata": {},
   "source": [
    "# Special thanks to \n",
    "https://www.chinahadoop.cn/course/1327"
   ]
  },
  {
   "cell_type": "code",
   "execution_count": 1,
   "metadata": {
    "collapsed": true
   },
   "outputs": [],
   "source": [
    "import torch\n",
    "import torch.nn as nn\n",
    "import numpy as np\n",
    "import matplotlib.pyplot as plt\n",
    "%matplotlib inline"
   ]
  },
  {
   "cell_type": "code",
   "execution_count": 2,
   "metadata": {
    "collapsed": true
   },
   "outputs": [],
   "source": [
    "BATCH_SIZE = 500 \n",
    "NOISE_DIM = 5"
   ]
  },
  {
   "cell_type": "code",
   "execution_count": 3,
   "metadata": {
    "collapsed": true
   },
   "outputs": [],
   "source": [
    "def get_gaussian_dist(mu, sigma): # the real data\n",
    "    temp = np.random.normal(mu, sigma, size=BATCH_SIZE)[:, np.newaxis]\n",
    "    return torch.from_numpy(temp).float()"
   ]
  },
  {
   "cell_type": "code",
   "execution_count": 4,
   "metadata": {
    "collapsed": true
   },
   "outputs": [],
   "source": [
    "def extract(v):\n",
    "    return v.detach().storage().tolist()\n",
    "def stats(d):\n",
    "    return [np.mean(d), np.std(d)]"
   ]
  },
  {
   "cell_type": "code",
   "execution_count": 5,
   "metadata": {
    "collapsed": true
   },
   "outputs": [],
   "source": [
    "# Generator \n",
    "G = nn.Sequential(                      \n",
    "    nn.Linear(NOISE_DIM, 128),            \n",
    "    nn.ReLU(),\n",
    "    nn.Linear(128, 1),                  \n",
    ")\n",
    "\n",
    "# Discriminator \n",
    "D = nn.Sequential(\n",
    "    nn.Linear(1, 128),     \n",
    "    nn.ReLU(),\n",
    "    nn.Linear(128, 1),     \n",
    "    nn.Sigmoid(),\n",
    ")"
   ]
  },
  {
   "cell_type": "code",
   "execution_count": null,
   "metadata": {
    "collapsed": true
   },
   "outputs": [],
   "source": [
    "opt_D = torch.optim.Adam(D.parameters(), lr=0.0001)\n",
    "opt_G = torch.optim.Adam(G.parameters(), lr=0.0001)"
   ]
  },
  {
   "cell_type": "code",
   "execution_count": null,
   "metadata": {},
   "outputs": [
    {
     "name": "stdout",
     "output_type": "stream",
     "text": [
      "Epoch 0: ; Real Dist ([4.891124389514327, 1.993818500989288]),  Fake Dist ([-0.17570002839714288, 0.1492427485260771]) \n",
      "Epoch 500: ; Real Dist ([5.043834386639297, 2.0627448433238538]),  Fake Dist ([1.9699697268009186, 0.5897737314037829]) \n",
      "Epoch 1000: ; Real Dist ([5.009938806027174, 2.0473615917828276]),  Fake Dist ([4.845271273374557, 1.4156075536506205]) \n",
      "Epoch 1500: ; Real Dist ([5.088246856942773, 2.07399483126232]),  Fake Dist ([6.482142136573792, 1.8230713297809369]) \n",
      "Epoch 2000: ; Real Dist ([5.112281850039959, 1.9519776036228214]),  Fake Dist ([5.268023253440857, 1.5748381451724114]) \n",
      "Epoch 2500: ; Real Dist ([5.04068314383924, 1.9228489605375532]),  Fake Dist ([4.727532731056213, 1.5001497336720422]) \n",
      "Epoch 3000: ; Real Dist ([5.102851587474346, 2.0479261284382475]),  Fake Dist ([5.306155563354492, 1.703597770612663]) \n",
      "Epoch 3500: ; Real Dist ([4.983626407340169, 2.0956825773737378]),  Fake Dist ([5.04322944021225, 1.6618326131988692]) \n",
      "Epoch 4000: ; Real Dist ([4.854020547389984, 1.999516076002065]),  Fake Dist ([5.184724949121475, 2.1301949944151644]) \n",
      "Epoch 4500: ; Real Dist ([4.97796799594909, 1.9676594475427744]),  Fake Dist ([5.046161568403244, 2.407519703502894]) \n",
      "Epoch 5000: ; Real Dist ([5.029845629997552, 2.1574835020375764]),  Fake Dist ([4.934684390902519, 2.9167974274294792]) \n",
      "Epoch 5500: ; Real Dist ([5.0707610174417495, 2.089353343659027]),  Fake Dist ([4.854598634719848, 3.165979350080727]) \n",
      "Epoch 6000: ; Real Dist ([4.983182084202767, 1.9683785944388297]),  Fake Dist ([4.980715734004974, 2.1826982537979513]) \n",
      "Epoch 6500: ; Real Dist ([4.99941929268837, 1.8855251074808472]),  Fake Dist ([4.997866829872131, 1.662727216286145]) \n",
      "Epoch 7000: ; Real Dist ([4.967729992330074, 1.9412896153664445]),  Fake Dist ([5.12628627204895, 1.484274891536198]) \n",
      "Epoch 7500: ; Real Dist ([4.875253567308188, 2.0638486317200613]),  Fake Dist ([5.051127002716065, 1.7379122612892863]) \n",
      "Epoch 8000: ; Real Dist ([5.0131348970532414, 2.086315637057312]),  Fake Dist ([4.28085652692616, 3.7763528765520578]) \n"
     ]
    }
   ],
   "source": [
    "for step in range(10000):\n",
    "    # train discrimintor\n",
    "    d_real_data = get_gaussian_dist(5, 2)    # real data\n",
    "    noise = torch.randn(BATCH_SIZE, NOISE_DIM)  # random noise\n",
    "    d_fake_data = G(noise)                      # fake data from G (generated from random ideas)\n",
    "\n",
    "    prob_real_decision = D(d_real_data)          # D try to increase this prob\n",
    "    prob_fake_decision = D(d_fake_data.detach()) # D try to reduce this prob\n",
    "    \n",
    "    D_loss = - torch.mean(torch.log(prob_real_decision) + torch.log(1. - prob_fake_decision))\n",
    "    opt_D.zero_grad()\n",
    "    D_loss.backward()\n",
    "    opt_D.step()\n",
    "\n",
    "    # train generator \n",
    "    noise = torch.randn(BATCH_SIZE, NOISE_DIM)  # random noise\n",
    "    g_fake_data = G(noise)                      # fake data from G (generated from random ideas)\n",
    "    prob_fake_decision = D(g_fake_data)         # G try to increase this prob\n",
    "    \n",
    "    G_loss = torch.mean(torch.log(1. - prob_fake_decision))\n",
    "    opt_G.zero_grad()\n",
    "    G_loss.backward()\n",
    "    opt_G.step()\n",
    "\n",
    "    if step % 500 == 0:  # plotting\n",
    "        print(\"Epoch %s: ; Real Dist (%s),  Fake Dist (%s) \" %\n",
    "                  (step, stats(extract(d_real_data)), stats(extract(g_fake_data))))"
   ]
  },
  {
   "cell_type": "code",
   "execution_count": null,
   "metadata": {
    "collapsed": true
   },
   "outputs": [],
   "source": [
    "print(\"Plotting the generated distribution...\")\n",
    "values = extract(g_fake_data)\n",
    "plt.hist(values, bins=50,color=\"red\")\n",
    "plt.xlabel('Value')\n",
    "plt.ylabel('Count')\n",
    "#plt.title('Histogram of Generated Distribution')\n",
    "plt.grid(True)\n",
    "plt.show()"
   ]
  },
  {
   "cell_type": "code",
   "execution_count": null,
   "metadata": {
    "collapsed": true
   },
   "outputs": [],
   "source": [
    "print(\"Plotting the generated distribution...\")\n",
    "values = extract(d_real_data)\n",
    "plt.hist(values, bins=50)\n",
    "plt.xlabel('Value')\n",
    "plt.ylabel('Count')\n",
    "plt.title('Histogram of Real Distribution')\n",
    "plt.grid(True)\n",
    "plt.show()"
   ]
  },
  {
   "cell_type": "code",
   "execution_count": null,
   "metadata": {
    "collapsed": true
   },
   "outputs": [],
   "source": []
  }
 ],
 "metadata": {
  "kernelspec": {
   "display_name": "Python 3",
   "language": "python",
   "name": "python3"
  },
  "language_info": {
   "codemirror_mode": {
    "name": "ipython",
    "version": 3
   },
   "file_extension": ".py",
   "mimetype": "text/x-python",
   "name": "python",
   "nbconvert_exporter": "python",
   "pygments_lexer": "ipython3",
   "version": "3.6.1"
  }
 },
 "nbformat": 4,
 "nbformat_minor": 2
}
