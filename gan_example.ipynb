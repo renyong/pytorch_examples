{
 "cells": [
  {
   "cell_type": "markdown",
   "metadata": {},
   "source": [
    "# Special thanks to \n",
    "https://www.chinahadoop.cn/course/1327"
   ]
  },
  {
   "cell_type": "code",
   "execution_count": 1,
   "metadata": {},
   "outputs": [],
   "source": [
    "import torch\n",
    "import torch.nn as nn\n",
    "import numpy as np\n",
    "import matplotlib.pyplot as plt\n",
    "%matplotlib inline"
   ]
  },
  {
   "cell_type": "code",
   "execution_count": 2,
   "metadata": {
    "collapsed": true
   },
   "outputs": [],
   "source": [
    "BATCH_SIZE = 500 \n",
    "NOISE_DIM = 5"
   ]
  },
  {
   "cell_type": "code",
   "execution_count": 3,
   "metadata": {
    "collapsed": true
   },
   "outputs": [],
   "source": [
    "def get_gaussian_dist(mu, sigma): # the real data\n",
    "    temp = np.random.normal(mu, sigma, size=BATCH_SIZE)[:, np.newaxis]\n",
    "    return torch.from_numpy(temp).float()"
   ]
  },
  {
   "cell_type": "code",
   "execution_count": 4,
   "metadata": {},
   "outputs": [],
   "source": [
    "def extract(v):\n",
    "    return v.detach().storage().tolist()\n",
    "def stats(d):\n",
    "    return [np.mean(d), np.std(d)]"
   ]
  },
  {
   "cell_type": "code",
   "execution_count": 5,
   "metadata": {
    "collapsed": true
   },
   "outputs": [],
   "source": [
    "# Generator \n",
    "G = nn.Sequential(                      \n",
    "    nn.Linear(NOISE_DIM, 128),            \n",
    "    nn.ReLU(),\n",
    "    nn.Linear(128, 1),                  \n",
    ")\n",
    "\n",
    "# Discriminator \n",
    "D = nn.Sequential(                      # Discriminator \n",
    "    nn.Linear(1, 128),     \n",
    "    nn.ReLU(),\n",
    "    nn.Linear(128, 1),     \n",
    "    nn.Sigmoid(),\n",
    ")"
   ]
  },
  {
   "cell_type": "code",
   "execution_count": 6,
   "metadata": {
    "collapsed": true
   },
   "outputs": [],
   "source": [
    "opt_D = torch.optim.Adam(D.parameters(), lr=0.0001)\n",
    "opt_G = torch.optim.Adam(G.parameters(), lr=0.0001)"
   ]
  },
  {
   "cell_type": "code",
   "execution_count": 7,
   "metadata": {
    "collapsed": true
   },
   "outputs": [],
   "source": [
    "noise = torch.randn(BATCH_SIZE, NOISE_DIM)"
   ]
  },
  {
   "cell_type": "code",
   "execution_count": 8,
   "metadata": {},
   "outputs": [
    {
     "name": "stdout",
     "output_type": "stream",
     "text": [
      "Epoch 0: ; Real Dist ([4.99791728669405, 2.0298276505007187]),  Fake Dist ([-0.04748060984537005, 0.1993357999114303]) \n",
      "Epoch 500: ; Real Dist ([4.9414460913240905, 1.9852812478927666]),  Fake Dist ([2.4878758471012117, 0.6580769601824392]) \n",
      "Epoch 1000: ; Real Dist ([5.190653932675719, 1.9569518943218187]),  Fake Dist ([5.072013554096222, 1.3940788671843882]) \n",
      "Epoch 1500: ; Real Dist ([4.827570859968662, 2.0596180370910147]),  Fake Dist ([6.4176603021621705, 1.7461353171209528]) \n",
      "Epoch 2000: ; Real Dist ([4.878758182227611, 1.9036919241961743]),  Fake Dist ([5.304669719219207, 1.3352467785422577]) \n",
      "Epoch 2500: ; Real Dist ([5.020141328699887, 2.0798808767888306]),  Fake Dist ([4.844281733989716, 1.340239254135111]) \n",
      "Epoch 3000: ; Real Dist ([4.96957964758575, 1.9854813007992391]),  Fake Dist ([5.4180725498199465, 1.64638291650291]) \n",
      "Epoch 3500: ; Real Dist ([5.1491693662852045, 1.961373186130574]),  Fake Dist ([5.077029882907867, 1.9859275839906505]) \n",
      "Epoch 4000: ; Real Dist ([4.984888727612794, 1.9374724904171479]),  Fake Dist ([5.1283017411232, 2.874710687522649]) \n",
      "Epoch 4500: ; Real Dist ([4.987175902351737, 2.0090559485963695]),  Fake Dist ([4.612783823711798, 3.05454218980519]) \n",
      "Epoch 5000: ; Real Dist ([4.984739219069481, 1.9318365457249433]),  Fake Dist ([4.933376648768783, 2.452572738918265]) \n",
      "Epoch 5500: ; Real Dist ([5.1471820192039015, 2.0174598686718492]),  Fake Dist ([5.0402642741203305, 1.5238508512552018]) \n",
      "Epoch 6000: ; Real Dist ([4.93462038809061, 1.876474684413059]),  Fake Dist ([5.202900299072265, 1.4510283856744297]) \n",
      "Epoch 6500: ; Real Dist ([4.984341905999929, 1.964590548595094]),  Fake Dist ([4.989881502389908, 1.501114017423103]) \n",
      "Epoch 7000: ; Real Dist ([4.955006734587252, 1.879483012172721]),  Fake Dist ([4.850754438787699, 2.6532493697061668]) \n",
      "Epoch 7500: ; Real Dist ([5.021536404043436, 2.072142063618956]),  Fake Dist ([5.043008255295455, 1.822307318960937]) \n",
      "Epoch 8000: ; Real Dist ([5.040658717781305, 2.059861397511505]),  Fake Dist ([5.187702572762966, 1.6925764252235789]) \n",
      "Epoch 8500: ; Real Dist ([4.849122201263905, 1.9759829261236734]),  Fake Dist ([4.960020015999675, 2.110627885979697]) \n",
      "Epoch 9000: ; Real Dist ([4.966340499162674, 2.0675244360066465]),  Fake Dist ([4.911616309642792, 1.9611960928275345]) \n",
      "Epoch 9500: ; Real Dist ([5.043807707130909, 1.9766861282495967]),  Fake Dist ([5.042081962019205, 1.891827552909538]) \n"
     ]
    }
   ],
   "source": [
    "for step in range(10000):\n",
    "    # train discrimintor\n",
    "    d_real_data = get_gaussian_dist(5, 2)    # real data\n",
    "    noise = torch.randn(BATCH_SIZE, NOISE_DIM)  # random noise\n",
    "    d_fake_data = G(noise)                      # fake data from G (generated from random ideas)\n",
    "\n",
    "    prob_real_decision = D(d_real_data)          # D try to increase this prob\n",
    "    prob_fake_decision = D(d_fake_data.detach()) # D try to reduce this prob\n",
    "    \n",
    "    D_loss = - torch.mean(torch.log(prob_real_decision) + torch.log(1. - prob_fake_decision))\n",
    "    opt_D.zero_grad()\n",
    "    D_loss.backward()\n",
    "    opt_D.step()\n",
    "\n",
    "    # train generator \n",
    "    noise = torch.randn(BATCH_SIZE, NOISE_DIM)  # random noise\n",
    "    g_fake_data = G(noise)                      # fake data from G (generated from random ideas)\n",
    "    prob_fake_decision = D(g_fake_data)         # G try to increase this prob\n",
    "    \n",
    "    G_loss = torch.mean(torch.log(1. - prob_fake_decision))\n",
    "    opt_G.zero_grad()\n",
    "    G_loss.backward()\n",
    "    opt_G.step()\n",
    "\n",
    "    if step % 500 == 0:  # plotting\n",
    "        print(\"Epoch %s: ; Real Dist (%s),  Fake Dist (%s) \" %\n",
    "                  (step, stats(extract(d_real_data)), stats(extract(g_fake_data))))"
   ]
  },
  {
   "cell_type": "code",
   "execution_count": 9,
   "metadata": {},
   "outputs": [
    {
     "name": "stdout",
     "output_type": "stream",
     "text": [
      "Plotting the generated distribution...\n"
     ]
    },
    {
     "data": {
      "image/png": "[encoded data removed]",
      "text/plain": [
       "<matplotlib.figure.Figure at 0x288674400b8>"
      ]
     },
     "metadata": {},
     "output_type": "display_data"
    }
   ],
   "source": [
    "print(\"Plotting the generated distribution...\")\n",
    "values = extract(g_fake_data)\n",
    "plt.hist(values, bins=50,color=\"red\")\n",
    "plt.xlabel('Value')\n",
    "plt.ylabel('Count')\n",
    "#plt.title('Histogram of Generated Distribution')\n",
    "plt.grid(True)\n",
    "plt.show()"
   ]
  },
  {
   "cell_type": "code",
   "execution_count": 10,
   "metadata": {},
   "outputs": [
    {
     "name": "stdout",
     "output_type": "stream",
     "text": [
      "Plotting the generated distribution...\n"
     ]
    },
    {
     "data": {
      "image/png": "[encoded data removed]",
      "text/plain": [
       "<matplotlib.figure.Figure at 0x288721f0e10>"
      ]
     },
     "metadata": {},
     "output_type": "display_data"
    }
   ],
   "source": [
    "print(\"Plotting the generated distribution...\")\n",
    "values = extract(d_real_data)\n",
    "plt.hist(values, bins=50)\n",
    "plt.xlabel('Value')\n",
    "plt.ylabel('Count')\n",
    "plt.title('Histogram of Real Distribution')\n",
    "plt.grid(True)\n",
    "plt.show()"
   ]
  },
  {
   "cell_type": "code",
   "execution_count": null,
   "metadata": {
    "collapsed": true
   },
   "outputs": [],
   "source": []
  }
 ],
 "metadata": {
  "kernelspec": {
   "display_name": "Python 3",
   "language": "python",
   "name": "python3"
  },
  "language_info": {
   "codemirror_mode": {
    "name": "ipython",
    "version": 3
   },
   "file_extension": ".py",
   "mimetype": "text/x-python",
   "name": "python",
   "nbconvert_exporter": "python",
   "pygments_lexer": "ipython3",
   "version": "3.6.1"
  }
 },
 "nbformat": 4,
 "nbformat_minor": 2
}
