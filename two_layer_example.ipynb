{
 "cells": [
  {
   "cell_type": "markdown",
   "metadata": {
    "collapsed": true
   },
   "source": [
    "# Special thanks\n",
    "https://www.chinahadoop.cn/course/1327"
   ]
  },
  {
   "cell_type": "code",
   "execution_count": 1,
   "metadata": {
    "collapsed": true
   },
   "outputs": [],
   "source": [
    "import torch\n",
    "import torch.nn as nn\n",
    "import torch.nn.functional as F\n",
    "\n",
    "N, D_in, H, D_out = 64, 1000, 100, 10\n",
    "\n",
    "# prepare data randomly\n",
    "x = torch.randn(N, D_in)\n",
    "y = torch.randn(N, D_out)\n",
    "\n",
    "learning_rate = 1e-6\n",
    "episodes = 500"
   ]
  },
  {
   "cell_type": "code",
   "execution_count": 2,
   "metadata": {
    "collapsed": true
   },
   "outputs": [],
   "source": [
    "class TwoLayerNet(torch.nn.Module):\n",
    "    def __init__(self, D_in, H, D_out):\n",
    "        super(TwoLayerNet, self).__init__()\n",
    "        # define the model architecture\n",
    "        self.linear1 = torch.nn.Linear(D_in, H, bias=False)\n",
    "        self.linear2 = torch.nn.Linear(H, D_out, bias=False)\n",
    "    \n",
    "    def forward(self, x):\n",
    "        y_pred = self.linear2(F.relu(self.linear1(x)))\n",
    "        return y_pred"
   ]
  },
  {
   "cell_type": "code",
   "execution_count": 3,
   "metadata": {},
   "outputs": [
    {
     "name": "stdout",
     "output_type": "stream",
     "text": [
      "0 651.0828247070312\n",
      "10 649.4476318359375\n",
      "20 647.8175659179688\n",
      "30 646.1923828125\n",
      "40 644.5722045898438\n",
      "50 642.957275390625\n",
      "60 641.347412109375\n",
      "70 639.7425537109375\n",
      "80 638.1428833007812\n",
      "90 636.5479125976562\n",
      "100 634.9591064453125\n",
      "110 633.3766479492188\n",
      "120 631.801513671875\n",
      "130 630.2314453125\n",
      "140 628.6685180664062\n",
      "150 627.1116943359375\n",
      "160 625.5621948242188\n",
      "170 624.017822265625\n",
      "180 622.4788208007812\n",
      "190 620.943603515625\n",
      "200 619.4116821289062\n",
      "210 617.8839111328125\n",
      "220 616.3614501953125\n",
      "230 614.8446044921875\n",
      "240 613.3345336914062\n",
      "250 611.8294677734375\n",
      "260 610.3291015625\n",
      "270 608.8328857421875\n",
      "280 607.3424072265625\n",
      "290 605.8568115234375\n",
      "300 604.3751831054688\n",
      "310 602.8971557617188\n",
      "320 601.4225463867188\n",
      "330 599.951904296875\n",
      "340 598.4842529296875\n",
      "350 597.0218505859375\n",
      "360 595.5640258789062\n",
      "370 594.1102294921875\n",
      "380 592.6614379882812\n",
      "390 591.2167358398438\n",
      "400 589.7767333984375\n",
      "410 588.3404541015625\n",
      "420 586.9078369140625\n",
      "430 585.4796142578125\n",
      "440 584.055419921875\n",
      "450 582.6351318359375\n",
      "460 581.2200317382812\n",
      "470 579.8092651367188\n",
      "480 578.4029541015625\n",
      "490 577.000732421875\n"
     ]
    }
   ],
   "source": [
    "model = TwoLayerNet(D_in, H, D_out)\n",
    "loss_fn = nn.MSELoss(reduction='sum')\n",
    "\n",
    "optimizer = torch.optim.Adam(model.parameters(), lr=learning_rate)\n",
    "\n",
    "for it in range(episodes):\n",
    "    # Forward pass\n",
    "    y_pred = model(x) # model.forward() \n",
    "    \n",
    "    # compute loss\n",
    "    loss = loss_fn(y_pred, y) # computation graph\n",
    "    if it%10==0:\n",
    "        print(it, loss.item())\n",
    "\n",
    "    optimizer.zero_grad()\n",
    "    # Backward pass\n",
    "    loss.backward()\n",
    "    \n",
    "    # update model parameters\n",
    "    optimizer.step()"
   ]
  },
  {
   "cell_type": "code",
   "execution_count": null,
   "metadata": {
    "collapsed": true
   },
   "outputs": [],
   "source": []
  }
 ],
 "metadata": {
  "kernelspec": {
   "display_name": "Python 3",
   "language": "python",
   "name": "python3"
  },
  "language_info": {
   "codemirror_mode": {
    "name": "ipython",
    "version": 3
   },
   "file_extension": ".py",
   "mimetype": "text/x-python",
   "name": "python",
   "nbconvert_exporter": "python",
   "pygments_lexer": "ipython3",
   "version": "3.6.1"
  }
 },
 "nbformat": 4,
 "nbformat_minor": 2
}
